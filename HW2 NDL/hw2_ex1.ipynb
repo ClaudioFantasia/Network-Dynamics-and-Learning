{
  "cells": [
    {
      "cell_type": "code",
      "execution_count": 1,
      "metadata": {
        "id": "sXqzWmo6CyGV"
      },
      "outputs": [],
      "source": [
        "# imports\n",
        "import numpy as np\n",
        "import matplotlib.pyplot as plt\n",
        "import networkx as nx\n",
        "import scipy as sp"
      ]
    },
    {
      "cell_type": "code",
      "execution_count": 2,
      "metadata": {
        "colab": {
          "base_uri": "https://localhost:8080/",
          "height": 215
        },
        "id": "c2mU0rY0DVVK",
        "outputId": "a5867b04-fa2c-4efe-af5a-a57b2750c785"
      },
      "outputs": [
        {
          "output_type": "display_data",
          "data": {
            "text/plain": [
              "<Figure size 500x200 with 1 Axes>"
            ],
            "image/png": "[encoded data removed]"
          },
          "metadata": {}
        }
      ],
      "source": [
        "# build matrices and G graph\n",
        "transition = np.array([\n",
        "    [0, 2/5, 1/5, 0, 0],\n",
        "    [0, 0, 3/4, 1/4, 0],\n",
        "    [1/2, 0, 0, 1/3, 0],\n",
        "    [0, 0, 1/3, 0, 2/3],\n",
        "    [0, 1/3, 0, 1/3, 0]])\n",
        "\n",
        "P = np.array([[lambda_ij/sum(node_i) for lambda_ij in node_i] for node_i in transition])\n",
        "G = nx.DiGraph()\n",
        "nodes_position_to_name = ['o', 'a', 'b', 'c', 'd']\n",
        "for i, row in enumerate(transition):\n",
        "  for j, element in enumerate(row):\n",
        "    if element != 0:\n",
        "      G.add_edge(nodes_position_to_name[i],nodes_position_to_name[j], transition=element)\n",
        "for i, row in enumerate(P):\n",
        "  for j, element in enumerate(row):\n",
        "    if element != 0:\n",
        "      G.add_edge(nodes_position_to_name[i],nodes_position_to_name[j], probability=element)\n",
        "for i, node in enumerate(G.nodes()):\n",
        "  G.add_node(node,omega=sum(transition[i,:]))\n",
        "\n",
        "# plot graph\n",
        "nodes_pos = {'o':(0,0),'a': (10,10), 'b':(10,-10), 'c':(20,-10),'d':(20,10)}\n",
        "fig, ax = plt.subplots(figsize=(5,2))\n",
        "nx.draw(G, with_labels=True, pos=nodes_pos, node_color=\"#80B3FF\",connectionstyle=\"arc3,rad=0.15\")\n",
        "plt.title(\"Graph $\\mathcal{G}$\")\n",
        "# fig.savefig('ex1_G.svg', format='svg', dpi=1200)\n",
        "plt.show()"
      ]
    },
    {
      "cell_type": "code",
      "execution_count": 3,
      "metadata": {
        "id": "naGFyJSTBWxp"
      },
      "outputs": [],
      "source": [
        "# random walk function\n",
        "def RandomWalk(G, max_time, init='o', end='d'):\n",
        "  arrived = False\n",
        "  x = init\n",
        "  x_next = init\n",
        "  node_seq = [init]\n",
        "  time = 0\n",
        "  while not arrived and time < max_time:\n",
        "    u = np.random.uniform(0,1,1)\n",
        "    time += -1*np.log(u)/(G.nodes[x][\"omega\"])\n",
        "    probabilities = [G[x][a][\"probability\"] for a in G.adj[x]]\n",
        "    x_next = np.random.choice(G.adj[x], 1, p=probabilities)[0]\n",
        "    node_seq.append(x_next)\n",
        "    x = x_next\n",
        "    if x == end:\n",
        "      arrived = True\n",
        "\n",
        "  return time"
      ]
    },
    {
      "cell_type": "code",
      "execution_count": 4,
      "metadata": {
        "colab": {
          "base_uri": "https://localhost:8080/"
        },
        "id": "qij3sxQWDbvm",
        "outputId": "3df432ec-840a-49b2-dfa1-d7d597dd38b1"
      },
      "outputs": [
        {
          "output_type": "stream",
          "name": "stdout",
          "text": [
            "Average: 4.595605615479147, Standard Deviation: 3.639518092525478\n"
          ]
        }
      ],
      "source": [
        "# 1(a)\n",
        "num_simulations = 100000 # 100.000 to be sure\n",
        "\n",
        "# save return times for all Random Walk simulations\n",
        "times = np.zeros(num_simulations)\n",
        "for i in range(num_simulations):\n",
        "  times[i] = RandomWalk(G, 100, init='b', end='b')\n",
        "\n",
        "# compute statistics from simulation results\n",
        "avg_len = np.average(times)\n",
        "std_len = np.std(times)\n",
        "print(f\"Average: {avg_len}, Standard Deviation: {std_len}\")"
      ]
    },
    {
      "cell_type": "markdown",
      "source": [
        "We proved that the return time for node i can be computed as:\n",
        "\\begin{equation}\n",
        "E_i[T^+_i] = \\frac{1}{w_i \\cdot \\bar{\\pi_i}}\n",
        "\\end{equation}"
      ],
      "metadata": {
        "id": "1m7WGHqqxz10"
      }
    },
    {
      "cell_type": "code",
      "source": [
        "# 1(b)\n",
        "\n",
        "# build P_bar matrix and omega vector\n",
        "global_frequency = max([sum(node_i) for node_i in transition])\n",
        "P_bar = np.array([[lambda_ij/global_frequency for lambda_ij in node_i] for node_i in transition])\n",
        "for i in range(P_bar.shape[0]): P_bar[i,i] = 1 - sum(P_bar[i])\n",
        "w = transition @ np.ones(5)\n",
        "\n",
        "# find pi P_bar-invariant distribution\n",
        "A = P_bar.T - np.eye(np.shape(P_bar)[0])\n",
        "pi_bar = sp.linalg.null_space(A)\n",
        "pi_bar /= sum(pi_bar)\n",
        "\n",
        "# compute expected return time\n",
        "# index 2 correspond to node b as required from the text\n",
        "expected_time = 1 / (w[2] * pi_bar[2])\n",
        "print(f\"Expected return time (b -> b): {expected_time[0]:.5}\")"
      ],
      "metadata": {
        "colab": {
          "base_uri": "https://localhost:8080/"
        },
        "id": "hb3OBTY4xx-N",
        "outputId": "96134ad8-340c-4a6b-f9af-1d7075c75847"
      },
      "execution_count": null,
      "outputs": [
        {
          "output_type": "stream",
          "name": "stdout",
          "text": [
            "Expected return time (b -> b): 4.6\n"
          ]
        }
      ]
    },
    {
      "cell_type": "code",
      "execution_count": null,
      "metadata": {
        "colab": {
          "base_uri": "https://localhost:8080/"
        },
        "id": "HVOUlKs8K0y5",
        "outputId": "8294c06c-aeb5-4b1f-d58b-a21bcb2b3ef6"
      },
      "outputs": [
        {
          "output_type": "stream",
          "name": "stdout",
          "text": [
            "Average: 10.437503493151354, Standard Deviation: 8.999775748958523\n"
          ]
        }
      ],
      "source": [
        "# 1(c)\n",
        "num_simulations = 100000 # 100.000 to be sure\n",
        "\n",
        "# save hitting times for all Random Walk simulations\n",
        "times = np.zeros(num_simulations)\n",
        "for i in range(num_simulations):\n",
        "   times[i] = RandomWalk(G, 100, init='o', end='d')\n",
        "\n",
        "# compute statistics from simulation results\n",
        "avg_len = np.average(times)\n",
        "std_len = np.std(times)\n",
        "print(f\"Average: {avg_len}, Standard Deviation: {std_len}\")"
      ]
    },
    {
      "cell_type": "code",
      "source": [
        "# 1(d)\n",
        "\n",
        "# compute expected hitting time\n",
        "Q = P[:4,:4]\n",
        "IQinv = np.linalg.inv(np.eye(4) - Q)\n",
        "tao = IQinv @ (1/w[:4])\n",
        "print(f\"Expected hitting time (o -> d): {tao[0]:.5}\")"
      ],
      "metadata": {
        "id": "Ph4Pu8Tey4UE",
        "colab": {
          "base_uri": "https://localhost:8080/"
        },
        "outputId": "905565d3-f2d8-49e8-84c9-2728dafa5329"
      },
      "execution_count": null,
      "outputs": [
        {
          "output_type": "stream",
          "name": "stdout",
          "text": [
            "Expected hitting time (o -> d): 10.767\n"
          ]
        }
      ]
    },
    {
      "cell_type": "markdown",
      "metadata": {
        "id": "YSPWocGfoLo6"
      },
      "source": [
        "De Groot\n"
      ]
    },
    {
      "cell_type": "code",
      "execution_count": 5,
      "metadata": {
        "colab": {
          "base_uri": "https://localhost:8080/"
        },
        "id": "_SyyNFbsl7hP",
        "outputId": "0b69bab8-da5a-46c9-8287-774ad9ad68ef"
      },
      "outputs": [
        {
          "output_type": "stream",
          "name": "stdout",
          "text": [
            "pi = \n",
            "[[0.16153846]\n",
            " [0.18461538]\n",
            " [0.26923077]\n",
            " [0.23076923]\n",
            " [0.15384615]]\n",
            "Consensus = [0.51420644]\n",
            "Converges to [0.51420865 0.51421185 0.51419328 0.51422705 0.51418976]\n",
            "RMSE = 3.017444754843649e-05\n"
          ]
        }
      ],
      "source": [
        "# 1(e)\n",
        "\n",
        "# chiede \"per ogni x(0)\", possiamo simulare tanti x(0), tipo 100, e misurare la metrica globale\"\n",
        "\n",
        "w = transition @ np.ones(5)\n",
        "P = np.eye(5) * (1/w) @ transition\n",
        "# np.random.seed(42)\n",
        "A = P.T - np.eye(np.shape(P)[0])\n",
        "pi = sp.linalg.null_space(A)\n",
        "pi /= sum(pi)\n",
        "print(f\"pi = \\n{pi}\")\n",
        "x = np.random.random(5)\n",
        "consensus = pi.T @ x\n",
        "print(f\"Consensus = {consensus}\")\n",
        "O = 25\n",
        "for t in range(O):\n",
        "  x = P @ x\n",
        "print(f\"Converges to {x}\")\n",
        "\n",
        "# error metric from consensus\n",
        "RMSE = np.abs(np.sqrt(np.sum((consensus-x)**2)))\n",
        "print(f\"RMSE = {RMSE}\")"
      ]
    },
    {
      "cell_type": "code",
      "source": [
        "# 1(f)\n",
        "\n",
        "# variance of uniform distribution: var = 1/12 * (b-a)^2\n",
        "vars = [2, 1, 1, 1, 2] # o, a, b, c, d\n",
        "var_predicted_consensus = sum(pi[i]**2 * vars[i] for i in range(len(vars)))\n",
        "print(f\"The theoretical predicted consensus is {var_predicted_consensus}\")\n",
        "\n",
        "# Now we simulate many consensus and compare the overall variance and average\n",
        "amplitudes = [np.sqrt(vars[i]*12) for i in range(len(vars))] # value of (b-a)\n",
        "medie = np.array([a/2 for a in amplitudes])\n",
        "print(pi.T@medie)\n",
        "num_simulations = 1000000 # 1.000.000 gives a Very good result (0.259x)\n",
        "consensus_simulations = []\n",
        "for i in range(num_simulations):\n",
        "  x = np.array([amplitudes[i]*np.random.random(1)[0] for i in range(len(vars))])\n",
        "  predicted_consensus = pi.T @ x\n",
        "  consensus_simulations.append(predicted_consensus)\n",
        "\n",
        "avg_consensus = np.mean(consensus_simulations)\n",
        "var_consensus = np.std(consensus_simulations)**2\n",
        "\n",
        "print(f\"simulation avg = {avg_consensus}\\nsimulation var = {var_consensus}\")"
      ],
      "metadata": {
        "colab": {
          "base_uri": "https://localhost:8080/"
        },
        "id": "twn6_AF8-c7L",
        "outputId": "ad576f55-1265-4a82-c9ed-d80109b721b4"
      },
      "execution_count": 7,
      "outputs": [
        {
          "output_type": "stream",
          "name": "stdout",
          "text": [
            "The theoretical predicted consensus is [0.25934911]\n",
            "[1.95832001]\n",
            "simulation avg = 1.9582912868059985\n",
            "simulation var = 0.25931845066474013\n"
          ]
        }
      ]
    },
    {
      "cell_type": "code",
      "source": [
        "# 1(f) second way\n",
        "variances = [2, 1, 1, 1, 2] # o, a, b, c, d\n",
        "#theoretically speaking if the nodes x(t) have some variance. They are random variable with mean 0 and variance sigma^2.\n",
        "#so the variance found in the consensus value is given by pi^2 ) * variance (both componentswise)\n",
        "#because the variance of opinions is different among nodes\n",
        "theoretical_consensus_variance = 0\n",
        "for i in range(len(variances)):\n",
        "  theoretical_consensus_variance += variances[i] * (pi[i])**2\n",
        "\n",
        "num_simulations = 1000000 # 1.000.000 gives a Very good result (0.259x)\n",
        "consensus_simulations = []\n",
        "for i in range(num_simulations):\n",
        "  for j in range(len(variances)):\n",
        "    x[j] = np.random.normal(0, np.sqrt(variances[j]),1)\n",
        "  predicted_consensus = pi.T @ x\n",
        "  consensus_simulations.append(predicted_consensus)\n",
        "\n",
        "avg_consensus = np.mean(consensus_simulations)\n",
        "var_consensus = np.std(consensus_simulations)**2\n",
        "print(f\"avg = {avg_consensus}\\nvar = {var_consensus}\")\n",
        "print(theoretical_consensus_variance)"
      ],
      "metadata": {
        "colab": {
          "base_uri": "https://localhost:8080/"
        },
        "id": "smzMb9tS2mDf",
        "outputId": "378fdc19-e9cc-4392-a1e8-2a1bd1984a31"
      },
      "execution_count": 9,
      "outputs": [
        {
          "output_type": "stream",
          "name": "stdout",
          "text": [
            "avg = -0.0007493841483514781\n",
            "var = 0.25939645747622153\n",
            "[0.25934911]\n"
          ]
        }
      ]
    },
    {
      "cell_type": "code",
      "source": [
        "# 1(g)\n",
        "H = G.copy()\n",
        "H.remove_edge('d','a')\n",
        "H.remove_edge('d','c')\n",
        "H.add_edge('d','d')\n",
        "fig, ax = plt.subplots(figsize=(5,2))\n",
        "nx.draw(H, with_labels=True, pos=nodes_pos, node_color=\"#80B3FF\",connectionstyle=\"arc3,rad=0.07\")\n",
        "# nx.draw_networkx_edge_labels(G, edge_labels=edge_labels, pos=nodes_pos, font_color='dimgrey', font_size=13)\n",
        "plt.title(\"Graph $\\mathcal{H}$\")\n",
        "fig.savefig('ex1_H.svg', format='svg', dpi=1200)\n",
        "plt.show()"
      ],
      "metadata": {
        "colab": {
          "base_uri": "https://localhost:8080/",
          "height": 215
        },
        "id": "JqZtmuauGaFL",
        "outputId": "ac5fa49f-b0ad-4ca2-d4dc-4254de5f02ff"
      },
      "execution_count": 10,
      "outputs": [
        {
          "output_type": "display_data",
          "data": {
            "text/plain": [
              "<Figure size 500x200 with 1 Axes>"
            ],
            "image/png": "[encoded data removed]"
          },
          "metadata": {}
        }
      ]
    },
    {
      "cell_type": "code",
      "source": [
        "np.random.seed(42)\n",
        "TH = transition.copy()\n",
        "TH[4,1] = 0\n",
        "TH[4,3] = 0\n",
        "TH[4,4] = 1 #self-loop\n",
        "print(TH)\n",
        "omegaH = TH @ np.ones(5)\n",
        "PH = (1/omegaH)*np.eye(5) @ TH\n",
        "AH = PH.T - np.eye(np.shape(PH)[0])\n",
        "piH = sp.linalg.null_space(AH)\n",
        "piH /= sum(piH)\n",
        "\n",
        "x = np.random.random(5)\n",
        "consensus = piH.T @ x\n",
        "print(f\"The real consensus in which the dynamics converges is the sink value: {x[4]}\")\n",
        "O = 500 # qua mettiamo il numero che ci aspettiamo, la big O\n",
        "for t in range(O):\n",
        "  x = PH @ x\n",
        "print(f\"Converges to {x}\")\n"
      ],
      "metadata": {
        "colab": {
          "base_uri": "https://localhost:8080/"
        },
        "id": "90ma9PLfHJ3P",
        "outputId": "6a2e12f1-045a-4e8c-a802-91747bfda002"
      },
      "execution_count": 13,
      "outputs": [
        {
          "output_type": "stream",
          "name": "stdout",
          "text": [
            "[[0.         0.4        0.2        0.         0.        ]\n",
            " [0.         0.         0.75       0.25       0.        ]\n",
            " [0.5        0.         0.         0.33333333 0.        ]\n",
            " [0.         0.         0.33333333 0.         0.66666667]\n",
            " [0.         0.         0.         0.         1.        ]]\n",
            "The real consensus in which the dynamics converges is the sink value: 0.15601864044243652\n",
            "Converges to [0.15601864 0.15601864 0.15601864 0.15601864 0.15601864]\n"
          ]
        }
      ]
    },
    {
      "cell_type": "code",
      "source": [
        "# 1(h)\n",
        "J = G.copy()\n",
        "J.remove_edge('c','b')\n",
        "J.remove_edge('d','a')\n",
        "fig, ax = plt.subplots(figsize=(5,2))\n",
        "nx.draw(J, with_labels=True, pos=nodes_pos, node_color=\"#80B3FF\",connectionstyle=\"arc3,rad=0.07\")\n",
        "# nx.draw_networkx_edge_labels(G, edge_labels=edge_labels, pos=nodes_pos, font_color='dimgrey', font_size=13)\n",
        "plt.title(\"Graph $\\mathcal{J}$\")\n",
        "fig.savefig('ex1_J.svg', format='svg', dpi=1200)\n",
        "plt.show()"
      ],
      "metadata": {
        "colab": {
          "base_uri": "https://localhost:8080/",
          "height": 215
        },
        "id": "D2URvxnPqM7V",
        "outputId": "90948896-2ada-4cc1-8f77-6f479fbe5336"
      },
      "execution_count": 14,
      "outputs": [
        {
          "output_type": "display_data",
          "data": {
            "text/plain": [
              "<Figure size 500x200 with 1 Axes>"
            ],
            "image/png": "[encoded data removed]"
          },
          "metadata": {}
        }
      ]
    },
    {
      "cell_type": "code",
      "source": [
        "np.random.seed(42)\n",
        "TJ = transition.copy()\n",
        "TJ[3,2] = 0\n",
        "TJ[4,1] = 0\n",
        "print(f\"Transition matrix for J =\\n{TJ}\")\n",
        "\n",
        "omegaJ = TJ @ np.ones(5)\n",
        "PJ = (1/omegaJ)*np.eye(5) @ TJ\n",
        "AJ = PJ.T - np.eye(np.shape(PJ)[0])\n",
        "piJ = sp.linalg.null_space(AJ)\n",
        "piJ /= sum(piJ)\n",
        "\n",
        "print(f\"pi = \\n{piJ}\")\n",
        "x = np.random.random(5)\n",
        "print(f\"x(0) = {x}\")\n",
        "consensus = piJ.T @ x\n",
        "O = 100\n",
        "print(f\"Consensus = {consensus}\")\n",
        "for t in range(O):\n",
        "  if t == O-1 or t == O-2 or t == O-3 or t == O-4 or t == O-5:\n",
        "    print(t)\n",
        "    [print(f\"{xx:.4}\", end= \", \") for xx in x]\n",
        "    print()\n",
        "  x = PJ @ x\n",
        "print(t+1)\n",
        "[print(f\"{xx:.4}\", end= \", \") for xx in x]\n",
        "print()"
      ],
      "metadata": {
        "colab": {
          "base_uri": "https://localhost:8080/"
        },
        "id": "mHGaIXsgq2uu",
        "outputId": "af07c13b-73e1-42d6-9689-efe861073737"
      },
      "execution_count": 15,
      "outputs": [
        {
          "output_type": "stream",
          "name": "stdout",
          "text": [
            "Transition matrix for J =\n",
            "[[0.         0.4        0.2        0.         0.        ]\n",
            " [0.         0.         0.75       0.25       0.        ]\n",
            " [0.5        0.         0.         0.33333333 0.        ]\n",
            " [0.         0.         0.         0.         0.66666667]\n",
            " [0.         0.         0.         0.33333333 0.        ]]\n",
            "pi = \n",
            "[[ 0.00000000e+00]\n",
            " [ 5.42315377e-17]\n",
            " [-2.42105079e-17]\n",
            " [ 5.00000000e-01]\n",
            " [ 5.00000000e-01]]\n",
            "x(0) = [0.37454012 0.95071431 0.73199394 0.59865848 0.15601864]\n",
            "Consensus = [0.37733856]\n",
            "95\n",
            "0.3572, 0.3572, 0.4779, 0.156, 0.5987, \n",
            "96\n",
            "0.3975, 0.3975, 0.2767, 0.5987, 0.156, \n",
            "97\n",
            "0.3572, 0.3572, 0.4779, 0.156, 0.5987, \n",
            "98\n",
            "0.3975, 0.3975, 0.2767, 0.5987, 0.156, \n",
            "99\n",
            "0.3572, 0.3572, 0.4779, 0.156, 0.5987, \n",
            "100\n",
            "0.3975, 0.3975, 0.2767, 0.5987, 0.156, \n"
          ]
        }
      ]
    }
  ],
  "metadata": {
    "colab": {
      "provenance": []
    },
    "kernelspec": {
      "display_name": "Python 3",
      "name": "python3"
    },
    "language_info": {
      "name": "python"
    }
  },
  "nbformat": 4,
  "nbformat_minor": 0
}